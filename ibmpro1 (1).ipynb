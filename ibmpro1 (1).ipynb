{
 "cells": [
  {
   "cell_type": "markdown",
   "id": "db243fd4-ef43-47ba-af61-565082a06423",
   "metadata": {},
   "source": [
    "<h1>My Jupyter Notebook on IBM Watson Studio</h1>"
   ]
  },
  {
   "cell_type": "markdown",
   "id": "36a5fdbf-cab9-4a80-8a39-701e98782142",
   "metadata": {},
   "source": [
    "__Srushti lokhande__"
   ]
  },
  {
   "cell_type": "markdown",
   "id": "4b54470b-2a85-495a-96d4-9efe57b641b1",
   "metadata": {},
   "source": [
    "Student"
   ]
  },
  {
   "cell_type": "markdown",
   "id": "cf547713-860c-421a-9ae7-b7c316254307",
   "metadata": {},
   "source": [
    "*I like data science because I believe every dataset tells a story and I want to be someone who is good at conveying that story to people.*"
   ]
  },
  {
   "cell_type": "markdown",
   "id": "f7c7fb07-359f-4281-baa5-20349371f597",
   "metadata": {},
   "source": [
    "### calculation"
   ]
  },
  {
   "cell_type": "code",
   "execution_count": 1,
   "id": "9b0b4bce-0e66-4821-bf0a-781d32b89571",
   "metadata": {},
   "outputs": [
    {
     "data": {
      "text/plain": [
       "0.043478260869565216"
      ]
     },
     "execution_count": 1,
     "metadata": {},
     "output_type": "execute_result"
    }
   ],
   "source": [
    "1*1/23\n"
   ]
  },
  {
   "cell_type": "code",
   "execution_count": null,
   "id": "c575b08d-8ee9-44db-953a-7b7ed8493b61",
   "metadata": {},
   "outputs": [],
   "source": []
  }
 ],
 "metadata": {
  "kernelspec": {
   "display_name": "Python",
   "language": "python",
   "name": "conda-env-python-py"
  },
  "language_info": {
   "codemirror_mode": {
    "name": "ipython",
    "version": 3
   },
   "file_extension": ".py",
   "mimetype": "text/x-python",
   "name": "python",
   "nbconvert_exporter": "python",
   "pygments_lexer": "ipython3",
   "version": "3.7.12"
  }
 },
 "nbformat": 4,
 "nbformat_minor": 5
}
